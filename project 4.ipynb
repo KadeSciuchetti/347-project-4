{
 "cells": [
  {
   "cell_type": "code",
   "execution_count": 1,
   "id": "c84630b1",
   "metadata": {},
   "outputs": [],
   "source": [
    "import numpy as np\n",
    "import pandas as pd\n",
    "from sklearn.decomposition import PCA"
   ]
  },
  {
   "cell_type": "code",
   "execution_count": 2,
   "id": "43f709fb",
   "metadata": {},
   "outputs": [],
   "source": [
    "df0 = pd.read_excel(\"Dry_Bean_Dataset.xlsx\")"
   ]
  },
  {
   "cell_type": "code",
   "execution_count": 3,
   "id": "f0b888d9",
   "metadata": {},
   "outputs": [],
   "source": [
    "\n",
    "from sklearn.model_selection import train_test_split"
   ]
  },
  {
   "cell_type": "code",
   "execution_count": 4,
   "id": "a1c7bb6f",
   "metadata": {},
   "outputs": [],
   "source": [
    "## split the data into test and train datasets\n",
    "df1train, df1test = train_test_split(df0, test_size = .25, random_state = 12345)"
   ]
  },
  {
   "cell_type": "code",
   "execution_count": 5,
   "id": "ba29d62b",
   "metadata": {},
   "outputs": [
    {
     "name": "stdout",
     "output_type": "stream",
     "text": [
      "(3403, 17)\n",
      "(10208, 17)\n"
     ]
    }
   ],
   "source": [
    "## confirm it worked how it was intended\n",
    "print(df1test.shape)\n",
    "print(df1train.shape)"
   ]
  },
  {
   "cell_type": "code",
   "execution_count": 6,
   "id": "f7d2e502",
   "metadata": {},
   "outputs": [
    {
     "name": "stdout",
     "output_type": "stream",
     "text": [
      "[9.99966758e-01 3.10893734e-05 1.90344618e-06 2.24620687e-07\n",
      " 2.46655507e-08 3.49124652e-10 1.12681814e-12 7.39616225e-13\n",
      " 1.15832845e-13 3.13431751e-14 7.08868039e-15 1.22988921e-15\n",
      " 2.02773117e-16 5.93847687e-18 4.56423382e-18 1.46409023e-19]\n"
     ]
    }
   ],
   "source": [
    "### attempt pca\n",
    "pca2 = PCA(n_components=16)\n",
    "df2 = pca2.fit_transform(df1train.drop([\"Class\"], axis = 1))\n",
    "vars = pca2.explained_variance_ratio_\n",
    "print(vars)\n",
    "cum_var = []\n",
    "num = [1,2,3,4,5,6,7,8,9,10,11,12,13,14,15,16]\n",
    "for x in vars:\n",
    "  if cum_var == []:\n",
    "    cum_var.append(x)\n",
    "  else:\n",
    "    cum_var.append(cum_var[-1] + x)\n",
    "#print(cum_var)"
   ]
  },
  {
   "cell_type": "markdown",
   "id": "235d795c",
   "metadata": {},
   "source": [
    "from this we can see that only the first component is very significant. "
   ]
  },
  {
   "cell_type": "code",
   "execution_count": 7,
   "id": "d96bd8b7",
   "metadata": {},
   "outputs": [],
   "source": [
    "pca = PCA(n_components=1)\n",
    "df3 = pca.fit_transform(df1train.drop([\"Class\"], axis = 1))"
   ]
  },
  {
   "cell_type": "code",
   "execution_count": 8,
   "id": "273663ba",
   "metadata": {},
   "outputs": [],
   "source": [
    "from sklearn.cluster import KMeans\n",
    "kmeans = KMeans(n_clusters=7, init='random', max_iter=300, random_state=0)\n",
    "pred_labels = kmeans.fit_predict(df3)"
   ]
  },
  {
   "cell_type": "code",
   "execution_count": 9,
   "id": "4f0ded3b",
   "metadata": {},
   "outputs": [],
   "source": [
    "from sklearn import preprocessing\n",
    "label_encoder = preprocessing.LabelEncoder()\n",
    "df1train['class1']= label_encoder.fit_transform(df1train['Class'])\n"
   ]
  },
  {
   "cell_type": "code",
   "execution_count": 10,
   "id": "e1583534",
   "metadata": {},
   "outputs": [],
   "source": [
    "df1train[\"class_pred\"] = pred_labels"
   ]
  },
  {
   "cell_type": "code",
   "execution_count": 11,
   "id": "74b93c19",
   "metadata": {},
   "outputs": [
    {
     "name": "stdout",
     "output_type": "stream",
     "text": [
      "Cluster number  0\n",
      "\n",
      "6    1224\n",
      "4     520\n",
      "5     366\n",
      "0      49\n",
      "2       6\n",
      "Name: class1, dtype: int64\n",
      "\n",
      "proportion of the largest component:  0.5653579676674365\n",
      "Cluster number  1\n",
      "\n",
      "2    378\n",
      "0    169\n",
      "1      7\n",
      "4      1\n",
      "Name: class1, dtype: int64\n",
      "\n",
      "proportion of the largest component:  0.6810810810810811\n",
      "Cluster number  2\n",
      "\n",
      "1    393\n",
      "Name: class1, dtype: int64\n",
      "\n",
      "proportion of the largest component:  1.0\n",
      "Cluster number  3\n",
      "\n",
      "4    708\n",
      "0    273\n",
      "2    138\n",
      "6     70\n",
      "5     23\n",
      "Name: class1, dtype: int64\n",
      "\n",
      "proportion of the largest component:  0.5841584158415841\n",
      "Cluster number  4\n",
      "\n",
      "3    1745\n",
      "5     121\n",
      "6      10\n",
      "4       5\n",
      "Name: class1, dtype: int64\n",
      "\n",
      "proportion of the largest component:  0.9276980329611909\n",
      "Cluster number  5\n",
      "\n",
      "2    701\n",
      "0    493\n",
      "4     69\n",
      "Name: class1, dtype: int64\n",
      "\n",
      "proportion of the largest component:  0.555027711797308\n",
      "Cluster number  6\n",
      "\n",
      "5    1024\n",
      "3     950\n",
      "6     652\n",
      "4     111\n",
      "0       2\n",
      "Name: class1, dtype: int64\n",
      "\n",
      "proportion of the largest component:  0.3738590726542534\n"
     ]
    }
   ],
   "source": [
    "for x in range(0,7):\n",
    "    temp = df1train[df1train[\"class_pred\"] == x]\n",
    "    temp1 = temp[\"class1\"]\n",
    "    temp2 = temp1.value_counts()\n",
    "    print(\"Cluster number \", x)\n",
    "    print()\n",
    "    print(temp2)\n",
    "    print()\n",
    "    print(\"proportion of the largest component: \", max(temp2)/len(temp1))"
   ]
  },
  {
   "cell_type": "markdown",
   "id": "3c47082a",
   "metadata": {},
   "source": [
    "clusters 4 and 2 did pretty well, but the rest have a significant proportion of other bean types."
   ]
  },
  {
   "cell_type": "code",
   "execution_count": 12,
   "id": "ab1360a8",
   "metadata": {},
   "outputs": [],
   "source": [
    "##trying with more clusters\n",
    "kmeans2 = KMeans(n_clusters=14, init='random', max_iter=300, random_state=0)\n",
    "pred_labels2 = kmeans2.fit_predict(df3)\n",
    "df1train[\"class_pred2\"] = pred_labels2"
   ]
  },
  {
   "cell_type": "code",
   "execution_count": 13,
   "id": "8ca1a611",
   "metadata": {},
   "outputs": [
    {
     "name": "stdout",
     "output_type": "stream",
     "text": [
      "Cluster number  0\n",
      "number of observations:  667\n",
      "proportion of the largest component:  0.679160419790105\n",
      "Cluster number  1\n",
      "number of observations:  1159\n",
      "proportion of the largest component:  0.8343399482312338\n",
      "Cluster number  2\n",
      "number of observations:  1365\n",
      "proportion of the largest component:  0.44761904761904764\n",
      "Cluster number  3\n",
      "number of observations:  615\n",
      "proportion of the largest component:  0.4878048780487805\n",
      "Cluster number  4\n",
      "number of observations:  1112\n",
      "proportion of the largest component:  0.6348920863309353\n",
      "Cluster number  5\n",
      "number of observations:  172\n",
      "proportion of the largest component:  0.6976744186046512\n",
      "Cluster number  6\n",
      "number of observations:  873\n",
      "proportion of the largest component:  0.997709049255441\n",
      "Cluster number  7\n",
      "number of observations:  430\n",
      "proportion of the largest component:  0.6697674418604651\n",
      "Cluster number  8\n",
      "number of observations:  620\n",
      "proportion of the largest component:  0.6419354838709678\n",
      "Cluster number  9\n",
      "number of observations:  610\n",
      "proportion of the largest component:  0.45737704918032784\n",
      "Cluster number  10\n",
      "number of observations:  221\n",
      "proportion of the largest component:  1.0\n",
      "Cluster number  11\n",
      "number of observations:  177\n",
      "proportion of the largest component:  1.0\n",
      "Cluster number  12\n",
      "number of observations:  1294\n",
      "proportion of the largest component:  0.41035548686244205\n",
      "Cluster number  13\n",
      "number of observations:  893\n",
      "proportion of the largest component:  0.49832026875699886\n"
     ]
    }
   ],
   "source": [
    "for x in range(0,14):\n",
    "    temp = df1train[df1train[\"class_pred2\"] == x]\n",
    "    temp1 = temp[\"class1\"]\n",
    "    temp2 = temp1.value_counts()\n",
    "    print(\"Cluster number \", x)\n",
    "    #print()\n",
    "    #print(temp2)\n",
    "    print(\"number of observations: \", len(temp1))\n",
    "    print(\"proportion of the largest component: \", max(temp2)/len(temp1))"
   ]
  },
  {
   "cell_type": "code",
   "execution_count": 24,
   "id": "faecc41c",
   "metadata": {},
   "outputs": [],
   "source": [
    "pca2 = PCA(n_components=2)\n",
    "df4 = pca2.fit_transform(df1train.drop([\"Class\", \"class1\", \"class_pred\", \"class_pred2\"], axis = 1))"
   ]
  },
  {
   "cell_type": "code",
   "execution_count": 25,
   "id": "d5557ef2",
   "metadata": {},
   "outputs": [],
   "source": [
    "kmeans3 = KMeans(n_clusters=14, init='random', max_iter=300, random_state=0)\n",
    "pred_labels3 = kmeans3.fit_predict(df4)\n",
    "df1train[\"class_pred3\"] = pred_labels3"
   ]
  },
  {
   "cell_type": "code",
   "execution_count": 26,
   "id": "660780fb",
   "metadata": {},
   "outputs": [
    {
     "name": "stdout",
     "output_type": "stream",
     "text": [
      "Cluster number  0\n",
      "number of observations:  636\n",
      "proportion of the largest component:  0.690251572327044\n",
      "Cluster number  1\n",
      "number of observations:  1141\n",
      "proportion of the largest component:  0.8571428571428571\n",
      "Cluster number  2\n",
      "number of observations:  1364\n",
      "proportion of the largest component:  0.4626099706744868\n",
      "Cluster number  3\n",
      "number of observations:  603\n",
      "proportion of the largest component:  0.472636815920398\n",
      "Cluster number  4\n",
      "number of observations:  1165\n",
      "proportion of the largest component:  0.6274678111587982\n",
      "Cluster number  5\n",
      "number of observations:  171\n",
      "proportion of the largest component:  0.7017543859649122\n",
      "Cluster number  6\n",
      "number of observations:  819\n",
      "proportion of the largest component:  0.9975579975579976\n",
      "Cluster number  7\n",
      "number of observations:  426\n",
      "proportion of the largest component:  0.6713615023474179\n",
      "Cluster number  8\n",
      "number of observations:  598\n",
      "proportion of the largest component:  0.6438127090301003\n",
      "Cluster number  9\n",
      "number of observations:  620\n",
      "proportion of the largest component:  0.46774193548387094\n",
      "Cluster number  10\n",
      "number of observations:  221\n",
      "proportion of the largest component:  1.0\n",
      "Cluster number  11\n",
      "number of observations:  177\n",
      "proportion of the largest component:  1.0\n",
      "Cluster number  12\n",
      "number of observations:  1369\n",
      "proportion of the largest component:  0.3995617238860482\n",
      "Cluster number  13\n",
      "number of observations:  898\n",
      "proportion of the largest component:  0.48552338530066813\n"
     ]
    }
   ],
   "source": [
    "for x in range(0,14):\n",
    "    temp = df1train[df1train[\"class_pred3\"] == x]\n",
    "    temp1 = temp[\"class1\"]\n",
    "    temp2 = temp1.value_counts()\n",
    "    print(\"Cluster number \", x)\n",
    "    #print()\n",
    "    #print(temp2)\n",
    "    print(\"number of observations: \", len(temp1))\n",
    "    print(\"proportion of the largest component: \", max(temp2)/len(temp1))"
   ]
  },
  {
   "cell_type": "markdown",
   "id": "2c800e72",
   "metadata": {},
   "source": [
    "still not working very well, but since the second component dicnt contain much avrience this is expected."
   ]
  },
  {
   "cell_type": "code",
   "execution_count": 37,
   "id": "6c3548af",
   "metadata": {},
   "outputs": [],
   "source": [
    "#print(df1train.drop([\"Class\", \"class1\", \"class_pred\", \"class_pred2\"], axis = 1))"
   ]
  },
  {
   "cell_type": "code",
   "execution_count": 27,
   "id": "082792e2",
   "metadata": {},
   "outputs": [],
   "source": [
    "import matplotlib.pyplot as plt\n"
   ]
  },
  {
   "cell_type": "code",
   "execution_count": 36,
   "id": "43fc52c2",
   "metadata": {},
   "outputs": [
    {
     "data": {
      "text/plain": [
       "<matplotlib.collections.PathCollection at 0x2623cac1eb0>"
      ]
     },
     "execution_count": 36,
     "metadata": {},
     "output_type": "execute_result"
    },
    {
     "data": {
      "image/png": "[encoded data removed]",
      "text/plain": [
       "<Figure size 432x288 with 1 Axes>"
      ]
     },
     "metadata": {
      "needs_background": "light"
     },
     "output_type": "display_data"
    }
   ],
   "source": [
    "plt.scatter(df4[:,0], df4[:,1], c = df1train['class1'])\n"
   ]
  }
 ],
 "metadata": {
  "kernelspec": {
   "display_name": "Python 3 (ipykernel)",
   "language": "python",
   "name": "python3"
  },
  "language_info": {
   "codemirror_mode": {
    "name": "ipython",
    "version": 3
   },
   "file_extension": ".py",
   "mimetype": "text/x-python",
   "name": "python",
   "nbconvert_exporter": "python",
   "pygments_lexer": "ipython3",
   "version": "3.9.7"
  }
 },
 "nbformat": 4,
 "nbformat_minor": 5
}
